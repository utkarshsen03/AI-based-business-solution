{
 "cells": [
  {
   "cell_type": "code",
   "execution_count": 1,
   "id": "a36b8dbf",
   "metadata": {},
   "outputs": [],
   "source": [
    "import pandas as pd\n",
    "from mlxtend.frequent_patterns import apriori, association_rules\n"
   ]
  },
  {
   "cell_type": "code",
   "execution_count": 2,
   "id": "b2ef8a53",
   "metadata": {},
   "outputs": [],
   "source": [
    "def load_data(filepath):\n",
    "    df = pd.read_excel(filepath)\n",
    "    print(\"Dataset Loaded Successfully\")\n",
    "    print(df.head())\n",
    "    return df"
   ]
  },
  {
   "cell_type": "code",
   "execution_count": 3,
   "id": "e941cf36",
   "metadata": {},
   "outputs": [],
   "source": [
    "# Function to preprocess the data\n",
    "def preprocess_data(df):\n",
    "    #\"\"\"Convert dataset into a format suitable for the Apriori algorithm\"\"\"\n",
    "    # Split Product_Names and Quantities_Sold into lists for each transaction\n",
    "    transactions = []\n",
    "    for _, row in df.iterrows():\n",
    "        products = row['Product_Names'].split(', ')\n",
    "        quantities = list(map(int, row['Quantities_Sold'].split(', ')))\n",
    "        for product, quantity in zip(products, quantities):\n",
    "            if quantity > 0:\n",
    "                transactions.append((row['Invoice_ID'], product, quantity))\n",
    "\n",
    "    # Convert the transactions into a DataFrame\n",
    "    transaction_df = pd.DataFrame(transactions, columns=['Invoice_ID', 'Item', 'Quantity'])\n",
    "\n",
    "    # Pivot to get basket format\n",
    "    basket = transaction_df.pivot_table(index='Invoice_ID', columns='Item', values='Quantity', fill_value=0)\n",
    "    basket = basket.applymap(lambda x: 1 if x > 0 else 0)\n",
    "    print(\"Data Preprocessing Complete\")\n",
    "    return basket"
   ]
  },
  {
   "cell_type": "code",
   "execution_count": 4,
   "id": "f8edb2f6",
   "metadata": {},
   "outputs": [],
   "source": [
    "# Function to apply the Apriori algorithm\n",
    "def apply_apriori(basket, min_support=0.05):\n",
    "    #\"\"\"Apply Apriori algorithm to find frequent itemsets\"\"\"\n",
    "    frequent_itemsets = apriori(basket, min_support=min_support, use_colnames=True)\n",
    "    print(\"Apriori Algorithm Applied Successfully\")\n",
    "    return frequent_itemsets"
   ]
  },
  {
   "cell_type": "code",
   "execution_count": 5,
   "id": "db69dfa2",
   "metadata": {},
   "outputs": [],
   "source": [
    "# Function to generate and display association rules\n",
    "def generate_rules(frequent_itemsets, metric='lift', min_threshold=1.0):\n",
    "    #\"\"\"Generate and display association rules\"\"\"\n",
    "    rules = association_rules(frequent_itemsets, metric=metric, min_threshold=min_threshold)\n",
    "    print(\"Association Rules Generated\")\n",
    "    return rules\n"
   ]
  },
  {
   "cell_type": "code",
   "execution_count": 6,
   "id": "91becb6f",
   "metadata": {},
   "outputs": [
    {
     "name": "stdout",
     "output_type": "stream",
     "text": [
      "Dataset Loaded Successfully\n",
      "  Invoice_ID           Date_Time Customer_ID  \\\n",
      "0  INV347874 2022-03-21 05:00:00    CUST5385   \n",
      "1  INV567275 2022-02-18 03:00:00    CUST3686   \n",
      "2  INV286043 2022-02-07 22:00:00    CUST2151   \n",
      "3  INV924732 2022-03-12 05:00:00    CUST8245   \n",
      "4  INV595003 2022-01-06 10:00:00    CUST4048   \n",
      "\n",
      "                                         Product_IDs  \\\n",
      "0  PROD74, PROD33, PROD44, PROD51, PROD67, PROD30...   \n",
      "1             PROD100, PROD70, PROD3, PROD73, PROD52   \n",
      "2     PROD52, PROD54, PROD94, PROD86, PROD50, PROD18   \n",
      "3  PROD29, PROD31, PROD46, PROD86, PROD14, PROD75...   \n",
      "4     PROD94, PROD89, PROD34, PROD82, PROD43, PROD83   \n",
      "\n",
      "                                       Product_Names  \\\n",
      "0  Shampoo, Yogurt, Chips, Carrot, Apple, Soda, Milk   \n",
      "1                Carrot, Yogurt, Apple, Juice, Chips   \n",
      "2      Juice, Carrot, Soda, Yogurt, Cookies, Shampoo   \n",
      "3  Apple, Juice, Carrot, Yogurt, Milk, Cookies, S...   \n",
      "4        Apple, Shampoo, Chips, Cookies, Juice, Soda   \n",
      "\n",
      "                                          Categories       Quantities_Sold  \\\n",
      "0  Cosmetics, Dairy, Snacks, Vegetables, Fruits, ...  4, 6, 5, 8, 1, 10, 2   \n",
      "1       Vegetables, Dairy, Fruits, Beverages, Snacks         9, 9, 5, 9, 3   \n",
      "2  Beverages, Vegetables, Beverages, Dairy, Snack...      4, 3, 2, 9, 4, 9   \n",
      "3  Fruits, Beverages, Vegetables, Dairy, Dairy, S...  3, 1, 5, 1, 10, 1, 2   \n",
      "4  Fruits, Cosmetics, Snacks, Snacks, Beverages, ...     9, 2, 2, 10, 4, 7   \n",
      "\n",
      "                                         Unit_Prices  Total_Sale_Amount  \\\n",
      "0  478.4, 77.56, 345.83, 492.82, 478.95, 104.97, ...           10223.22   \n",
      "1               449.77, 32.09, 268.61, 77.11, 324.15            7346.23   \n",
      "2      313.58, 149.98, 154.53, 440.8, 406.11, 470.67           11840.99   \n",
      "3  195.29, 389.95, 168.56, 54.32, 432.46, 23.65, ...            6693.93   \n",
      "4     345.44, 300.49, 253.23, 398.16, 410.57, 186.05           11142.63   \n",
      "\n",
      "  Payment_Mode  Discount_Applied  Profit_Margin  \n",
      "0          UPI             39.56           0.13  \n",
      "1          UPI             35.42           0.32  \n",
      "2          UPI              3.52           0.21  \n",
      "3         Card             40.99           0.18  \n",
      "4         Cash             13.57           0.10  \n",
      "Data Preprocessing Complete\n",
      "Apriori Algorithm Applied Successfully\n",
      "      support                                 itemsets\n",
      "0    0.665753                                  (Apple)\n",
      "1    0.641096                                 (Carrot)\n",
      "2    0.639726                                  (Chips)\n",
      "3    0.656164                                (Cookies)\n",
      "4    0.656164                                  (Juice)\n",
      "..        ...                                      ...\n",
      "375  0.075342  (Shampoo, Juice, Cookies, Milk, Yogurt)\n",
      "376  0.072603     (Soda, Juice, Cookies, Milk, Yogurt)\n",
      "377  0.069863  (Soda, Shampoo, Juice, Cookies, Yogurt)\n",
      "378  0.075342   (Soda, Shampoo, Cookies, Milk, Yogurt)\n",
      "379  0.079452     (Soda, Shampoo, Juice, Milk, Yogurt)\n",
      "\n",
      "[380 rows x 2 columns]\n"
     ]
    },
    {
     "name": "stderr",
     "output_type": "stream",
     "text": [
      "C:\\Users\\asus\\AppData\\Local\\Temp\\ipykernel_22648\\287827537.py:18: FutureWarning: DataFrame.applymap has been deprecated. Use DataFrame.map instead.\n",
      "  basket = basket.applymap(lambda x: 1 if x > 0 else 0)\n",
      "C:\\Users\\asus\\anaconda3\\envs\\r-tutorial\\lib\\site-packages\\mlxtend\\frequent_patterns\\fpcommon.py:161: DeprecationWarning: DataFrames with non-bool types result in worse computationalperformance and their support might be discontinued in the future.Please use a DataFrame with bool type\n",
      "  warnings.warn(\n"
     ]
    }
   ],
   "source": [
    "# Main execution\n",
    "if __name__ == \"__main__\":\n",
    "    filepath = r\"C:\\Users\\asus\\Downloads\\SD.xlsx\"\n",
    "    df = load_data(filepath)\n",
    "    basket = preprocess_data(df)\n",
    "    frequent_itemsets = apply_apriori(basket, min_support=0.05)\n",
    "    print(frequent_itemsets)\n",
    "    \n",
    "    frequent_itemsets.to_csv(\"A-Priori\", index=False)"
   ]
  },
  {
   "cell_type": "code",
   "execution_count": null,
   "id": "0561427a",
   "metadata": {},
   "outputs": [],
   "source": []
  }
 ],
 "metadata": {
  "kernelspec": {
   "display_name": "Python 3 (ipykernel)",
   "language": "python",
   "name": "python3"
  },
  "language_info": {
   "codemirror_mode": {
    "name": "ipython",
    "version": 3
   },
   "file_extension": ".py",
   "mimetype": "text/x-python",
   "name": "python",
   "nbconvert_exporter": "python",
   "pygments_lexer": "ipython3",
   "version": "3.9.16"
  }
 },
 "nbformat": 4,
 "nbformat_minor": 5
}
